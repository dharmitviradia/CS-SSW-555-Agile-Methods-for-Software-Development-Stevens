{
 "cells": [
  {
   "cell_type": "code",
   "execution_count": 32,
   "metadata": {},
   "outputs": [
    {
     "name": "stdout",
     "output_type": "stream",
     "text": [
      "Requirement already satisfied: prettytable in /anaconda3/lib/python3.6/site-packages (0.7.2)\n",
      "\u001b[31msmart-open 1.7.1 requires bz2file, which is not installed.\u001b[0m\n",
      "\u001b[31mdistributed 1.21.8 requires msgpack, which is not installed.\u001b[0m\n",
      "\u001b[33mYou are using pip version 10.0.1, however version 19.2.3 is available.\n",
      "You should consider upgrading via the 'pip install --upgrade pip' command.\u001b[0m\n"
     ]
    }
   ],
   "source": [
    "# All the file imports\n",
    "!pip install prettytable\n",
    "from datetime import datetime\n",
    "from prettytable import PrettyTable"
   ]
  },
  {
   "cell_type": "code",
   "execution_count": 33,
   "metadata": {},
   "outputs": [],
   "source": [
    "#Data Structure \n",
    "tag_sp=[\"INDI\", \"FAM\"]\n",
    "#Level Zero Tags\n",
    "tag_zero=[\"HEAD\", \"TRLR\", \"NOTE\"]\n",
    "#Level One Tags\n",
    "tag_one=[\"NAME\", \"SEX\", \"BIRT\", \"DEAT\",\"FAMC\",\"FAMS\",\"MARR\", \"DIV\",\"HUSB\",\"WIFE\",\"CHIL\"]\n",
    "#Level Zero Tags\n",
    "tag_fam={\"INDI\":[\"NAME\", \"SEX\",\"BIRT\", \"DEAT\",\"FAMC\",\"FAMS\"],\n",
    "             \"FAM\":[\"MARR\", \"DIV\",\"HUSB\",\"WIFE\",\"CHIL\"], \n",
    "             \"DATE\":[\"BIRT\", \"DEAT\", \"DIV\", \"MARR\"]}\n",
    "family_dic=None\n",
    "individuals=None"
   ]
  },
  {
   "cell_type": "code",
   "execution_count": 34,
   "metadata": {},
   "outputs": [],
   "source": [
    "def isDateParent(A):\n",
    "    return A[1] in tag_fam[\"DATE\"]"
   ]
  },
  {
   "cell_type": "code",
   "execution_count": 35,
   "metadata": {},
   "outputs": [],
   "source": [
    "# Convert month string to month number\n",
    "# :param month for which we need the number\n",
    "def month_to_num(shortMonth):\n",
    "    return{\n",
    "        'JAN' : \"1\",\n",
    "        'FEB' : \"2\",\n",
    "        'MAR' : \"3\",\n",
    "        'APR' : \"4\",\n",
    "        'MAY' : \"5\",\n",
    "        'JUN' : \"6\",\n",
    "        'JUL' : \"7\",\n",
    "        'AUG' : \"8\",\n",
    "        'SEP' : \"9\", \n",
    "        'OCT' : \"10\",\n",
    "        'NOV' : \"11\",\n",
    "        'DEC' : \"12\"\n",
    "    }[shortMonth]"
   ]
  },
  {
   "cell_type": "code",
   "execution_count": 36,
   "metadata": {},
   "outputs": [],
   "source": [
    "# Convert input date to standard format\n",
    "# :param date array in input\n",
    "def convert_date(date_arr):\n",
    "    return \"{}-{}-{}\".format(date_arr[2], month_to_num(date_arr[1]), date_arr[0])"
   ]
  },
  {
   "cell_type": "code",
   "execution_count": 37,
   "metadata": {},
   "outputs": [],
   "source": [
    "# Determine age based on birthdate and death date\n",
    "# If death date is not present then function uses the current date as a comparison\n",
    "def determine_age(birth_date, death_date):\n",
    "    birth_month= birth_date.split('-')[1]\n",
    "    birth_day= birth_date.split('-')[0]\n",
    "    \n",
    "    if death_date:\n",
    "        death_month=death_date.split('-')[1]\n",
    "        death_day=death_date.split('-')[0]\n",
    "        return int(death_date.split('-')[0]) - int(birth_date.split('-')[0])-((int(death_month), int(death_day))< (int(birth_month), int(birth_day)))\n",
    "    else:\n",
    "        today = datetime.today()\n",
    "        return today.year - int(birth_date.split('-')[0]) - ((today.month, today.day) < (int(birth_month), int(birth_day)))"
   ]
  },
  {
   "cell_type": "code",
   "execution_count": 38,
   "metadata": {},
   "outputs": [],
   "source": [
    "def find_name(arr, _id):\n",
    "    #takes array of dict objects\n",
    "    for indi in arr:\n",
    "        if _id == indi[\"INDI\"]:\n",
    "            return indi[\"NAME\"]"
   ]
  },
  {
   "cell_type": "code",
   "execution_count": 39,
   "metadata": {},
   "outputs": [],
   "source": [
    "# create dictionary entry for the passed tag\n",
    "# :param current_arr is the current array line being processed\n",
    "# :param tag can will be either FAM or INDI\n",
    "def create_dic_entry(current_arr, tag):\n",
    "    current_tag=tag\n",
    "    dic={}\n",
    "    dic[tag]=current_arr[1]\n",
    "    return dic, current_tag"
   ]
  },
  {
   "cell_type": "code",
   "execution_count": 40,
   "metadata": {},
   "outputs": [],
   "source": [
    "# Adds missing tags with \"NA\"\n",
    "def add_missing_entries(dic):\n",
    "    if \"DIV\" not in dic:\n",
    "        dic[\"DIV\"] = \"NA\"\n",
    "    if \"HUSB\" not in dic:\n",
    "        dic[\"HUSB\"] = \"NA\"\n",
    "    if \"HUSB_NAME\" not in dic:\n",
    "        dic[\"HUSB_NAME\"] = \"NA\"\n",
    "    if \"WIFE\" not in dic:\n",
    "        dic[\"WIFE\"] = \"NA\"\n",
    "    if \"WIFE_NAME\" not in dic:\n",
    "        dic[\"WIFE_NAME\"] = \"NA\"\n",
    "    if \"FAM_CHILD\" not in dic:\n",
    "        dic[\"FAM_CHILD\"] = \"NA\"\n",
    "    if \"MARR\" not in dic:\n",
    "        dic[\"MARR\"] = \"NA\"   "
   ]
  },
  {
   "cell_type": "code",
   "execution_count": 41,
   "metadata": {},
   "outputs": [],
   "source": [
    "# Checking if one date is after another\n",
    "# :param date_one is the date being compared with\n",
    "# :param date_two is the date being compared t0\n",
    "def is_date_after(date_one, date_two):\n",
    "    return date_one < date_two"
   ]
  },
  {
   "cell_type": "code",
   "execution_count": 42,
   "metadata": {},
   "outputs": [],
   "source": [
    "# Create map of individuals where key is the individual id and\n",
    "# individual object is the  value\n",
    "def create_individuals_map():\n",
    "    global individuals\n",
    "    individuals = {}\n",
    "    for individual in document[\"INDI\"]:\n",
    "        individuals[individual[\"INDI\"]] = individual"
   ]
  },
  {
   "cell_type": "code",
   "execution_count": 43,
   "metadata": {},
   "outputs": [],
   "source": [
    "# Creating a family dictionary with the key as the family id and the value as the\n",
    "# information about the family and the objects corresponding to husband, wife and children\n",
    "def create_family_dic():\n",
    "    global family_dic\n",
    "    family_dic = {}\n",
    "    for family in document[\"FAM\"]:\n",
    "        if family[\"HUSB\"] != \"NA\" and family[\"HUSB\"] in individuals:\n",
    "            family[\"husband_object\"] = individuals[family[\"HUSB\"]]\n",
    "        if family[\"WIFE\"] != \"NA\" and family[\"WIFE\"] in individuals:\n",
    "            family[\"wife_object\"] = individuals[family[\"WIFE\"]]\n",
    "        if family[\"FAM_CHILD\"] != \"NA\":\n",
    "            children = []\n",
    "            for child in family[\"FAM_CHILD\"]:\n",
    "                children.append(individuals[child])\n",
    "            family[\"children_objects\"] = children\n",
    "        family_dic[family[\"FAM\"]] = family\n",
    "            "
   ]
  },
  {
   "cell_type": "code",
   "execution_count": 61,
   "metadata": {},
   "outputs": [],
   "source": [
    "#USID: 07\n",
    "def is_marriage_legal():\n",
    "    for family_id in family_dic:\n",
    "        if \"MARR\" in family_dic[family_id] and family_dic[family_id][\"MARR\"] !=\"NA\":\n",
    "            married_date=family_dic[family_id][\"MARR\"]\n",
    "            print(married_date)\n",
    "        if \"husband_object\" in family_dic[family_id]:\n",
    "            husband=family_dic[family_id][\"husband_object\"]\n",
    "            if int(determine_age(husband[\"BIRT\"], married_date)) < 14:\n",
    "                print(\"Father is too young\")\n",
    "        if \"wife_object\" in family_dic[family_id]:\n",
    "            wife=family_dic[family_id][\"wife_object\"]\n",
    "            if int(determine_age(wife[\"BIRT\"], married_date)) < 14:\n",
    "                print(\"Wife is too young\")"
   ]
  },
  {
   "cell_type": "code",
   "execution_count": 63,
   "metadata": {},
   "outputs": [],
   "source": [
    "#USID: 10\n",
    "def is_age_legal():\n",
    "    for indi_id in individuals:\n",
    "        if individuals[indi_id][\"AGE\"] >150:\n",
    "            print(\"Too old\")"
   ]
  },
  {
   "cell_type": "code",
   "execution_count": 46,
   "metadata": {},
   "outputs": [],
   "source": [
    "def read_in(file):\n",
    "    doc={\"INDI\":[], \"FAM\":[]}\n",
    "    dic={}\n",
    "    flag=False #indicates whether the correct tag has appeared before DATE tag\n",
    "    with open(file) as f:\n",
    "        all_lines=f.readlines()\n",
    "        for line, next_line in zip(all_lines, all_lines[1:]):\n",
    "            current_arr=line.strip().split(\" \")\n",
    "            next_arr=next_line.strip().split(\" \")\n",
    "            #if the current tag is individual\n",
    "            if len(current_arr)==3 and current_arr[0]=='0' and current_arr[2]== \"INDI\":\n",
    "                #inserts individual's ID into the dictionary\n",
    "                dic, current_tag=create_dic_entry(current_arr, \"INDI\") \n",
    "            elif len(current_arr)==3 and current_arr[0]=='0' and current_arr[2]==\"FAM\": \n",
    "                dic, current_tag=create_dic_entry(current_arr, \"FAM\")\n",
    "            elif (current_arr[1]==\"DATE\" and flag):\n",
    "                flag=False\n",
    "                date_arr = current_arr[2:] #extracts the date argument from the line\n",
    "                dic[tmp]= convert_date(date_arr) #converts the date into correct format\n",
    "            elif current_arr[0]=='1' and current_arr[1] in tag_one:\n",
    "                if (isDateParent(current_arr)): #determines whether the current tag is parent of DATE tag\n",
    "                    tmp=current_arr[1] #extracts the tag name\n",
    "                    flag=True\n",
    "                else: \n",
    "                    #current tag is not the parent tag of DATE tag\n",
    "                    if current_arr[1] == \"HUSB\":\n",
    "                        dic[\"HUSB_NAME\"]=find_name(doc[\"INDI\"], current_arr[2])\n",
    "                    if current_arr[1] == \"WIFE\":\n",
    "                        dic[\"WIFE_NAME\"]=find_name(doc[\"INDI\"], current_arr[2])\n",
    "                    if current_arr[1] == 'CHIL':\n",
    "                        #INDI_CHILD indicates all the children within a family\n",
    "                        children = dic[\"FAM_CHILD\"] if \"FAM_CHILD\" in dic else []\n",
    "                        children.append(current_arr[2])\n",
    "                        dic[\"FAM_CHILD\"] = children\n",
    "                    if current_arr[1] == 'FAMC' or current_arr[1] == 'FAMS':\n",
    "                        child = dic[\"INDI_CHILD\"] if \"INDI_CHILD\" in dic else []\n",
    "                        spouse = dic[\"SPOUSE\"] if \"SPOUSE\" in dic else []\n",
    "                        child.append(current_arr[2]) if current_arr[1] == 'FAMC' else spouse.append(current_arr[2])\n",
    "                        dic['INDI_CHILD'] = child #FAM_CHILD indicates which family this individual belongs to\n",
    "                        dic['SPOUSE'] = spouse\n",
    "                    else: #other type of tag\n",
    "                        dic[current_arr[1]]=' '.join(current_arr[2:])\n",
    "            if (len(next_arr)==3 and next_arr[0]=='0' and next_arr[2] in tag_sp) or next_arr[1]==\"TRLR\":\n",
    "                if dic:\n",
    "                    if current_tag == 'INDI':\n",
    "                        if 'DEAT' in dic:\n",
    "                            age = determine_age(dic['BIRT'], dic['DEAT'])\n",
    "                            alive = False\n",
    "                        else:\n",
    "                            age = determine_age(dic['BIRT'], None)\n",
    "                            alive = True\n",
    "                            dic['DEAT'] = 'NA'\n",
    "                        dic[\"AGE\"] = str(age)\n",
    "                        dic['ALIVE']= alive\n",
    "                        #print(current_tag\n",
    "                        if not dic[\"SPOUSE\"]:\n",
    "                            dic[\"SPOUSE\"] = \"NA\"\n",
    "                        elif not dic[\"INDI_CHILD\"]:\n",
    "                            dic[\"INDI_CHILD\"] = \"NA\"\n",
    "                    if current_tag == 'FAM':\n",
    "                        add_missing_entries(dic)\n",
    "                    doc[current_tag].append(dic)\n",
    "        return doc\n",
    "                  "
   ]
  },
  {
   "cell_type": "code",
   "execution_count": 47,
   "metadata": {},
   "outputs": [],
   "source": [
    "# Prints out the Individual Table\n",
    "def printIndividualTable():\n",
    "    allFields = [\"ID\", \"Name\", \"Gender\", \"Birthday\", \"Age\", \"Alive\", \"Death\", \"Child\", \"Spouse\"]\n",
    "    tagNames = [\"INDI\", \"NAME\", \"SEX\", \"BIRT\", \"AGE\", \"ALIVE\", \"DEAT\", \"INDI_CHILD\", \"SPOUSE\"]\n",
    "    \n",
    "    printTable(allFields, tagNames, individuals)"
   ]
  },
  {
   "cell_type": "code",
   "execution_count": 48,
   "metadata": {},
   "outputs": [],
   "source": [
    "# Prints out the Family Table\n",
    "def printFamilyTable():\n",
    "    allFields = [\"ID\", \"Married\", \"Divorced\", \"Husband ID\", \"Husband Name\", \"Wife ID\", \"Wife Name\", \"Children\"]\n",
    "    tagNames = [\"FAM\", \"MARR\", \"DIV\", \"HUSB\", \"HUSB_NAME\", \"WIFE\", \"WIFE_NAME\", \"FAM_CHILD\"]\n",
    "    \n",
    "    printTable(allFields, tagNames, family_dic)"
   ]
  },
  {
   "cell_type": "code",
   "execution_count": 49,
   "metadata": {},
   "outputs": [],
   "source": [
    "# Prints out a table of dictionary data with the passed-in arguments\n",
    "# Parameters:\n",
    "# fields: a list of fields for the table\n",
    "# tag_names: tag names used to access each data field\n",
    "# dictionary: a dictionary filled with data\n",
    "def printTable(fields, tag_names, dictionary):\n",
    "    table = PrettyTable()\n",
    "    table.field_names = fields\n",
    "    for element in dictionary.values():    \n",
    "        count = 1\n",
    "        row_data = \"\" #string uses to store each tag within the current element\n",
    "        for name in tag_names:\n",
    "            if (count < int(len(tag_names))): #not the last element\n",
    "                if (isinstance(element[name], list)): #current element is an array\n",
    "                    row_data += (\"\".join(element[name]) + \"? \")\n",
    "                else: #current element is not an array\n",
    "                    row_data += (str(element[name]) + \"? \")\n",
    "            elif (count == int(len(tag_names))):\n",
    "                if (isinstance(element[name], list)): #current element is an array\n",
    "                    row_data += (\"\".join(element[name]))\n",
    "                else: #current element is not an array\n",
    "                    row_data += (str(element[name]))\n",
    "                break\n",
    "            count+= 1;\n",
    "        table.add_row(row_data.split('?'))\n",
    "    print(table)"
   ]
  },
  {
   "cell_type": "code",
   "execution_count": 50,
   "metadata": {},
   "outputs": [
    {
     "name": "stdout",
     "output_type": "stream",
     "text": [
      "+-------+--------------------+--------+-------------+-----+--------+-----------+-------+-----------+\n",
      "|   ID  |        Name        | Gender |   Birthday  | Age | Alive  |   Death   | Child |   Spouse  |\n",
      "+-------+--------------------+--------+-------------+-----+--------+-----------+-------+-----------+\n",
      "|  @I1@ |    Jimmy /Colon/   |    M   |   1912-6-5  |  85 |  False |  1998-5-2 |  @F2@ |    @F1@   |\n",
      "|  @I2@ |    Helen /Colon/   |    F   |  1920-12-10 |  81 |  False |  2002-6-2 |   NA  |    @F1@   |\n",
      "|  @I3@ |    Dora /Colon/    |    F   |   1951-4-5  |  68 |  True  |     NA    |  @F1@ |  @F3@@F4@ |\n",
      "|  @I4@ |    Rurra /Colon/   |    F   |   1952-9-8  |  66 |  True  |     NA    |  @F1@ |    @F5@   |\n",
      "|  @I5@ |    John /Colon/    |    M   |   1957-5-11 |  62 |  True  |     NA    |  @F1@ |    @F6@   |\n",
      "|  @I6@ |  Micheal /Huston/  |    M   |   1950-5-10 |  69 |  True  |     NA    |   NA  |    @F3@   |\n",
      "|  @I7@ |   Samul /Hilson/   |    M   |   1952-7-5  |  67 |  True  |     NA    |   NA  |    @F4@   |\n",
      "|  @I8@ |   Henry /Nilson/   |    M   |   1950-9-25 |  68 |  True  |     NA    |   NA  |    @F5@   |\n",
      "|  @I9@ |    Alex /Colon/    |    F   |  1965-12-27 |  53 |  True  |     NA    |   NA  |    @F6@   |\n",
      "| @I10@ |   Kevin /Huston/   |    M   |   1990-8-4  |  29 |  True  |     NA    |  @F3@ |     NA    |\n",
      "| @I11@ |   Cathie /Colon/   |    F   |   1974-6-2  |  45 |  True  |     NA    |  @F4@ |    @F7@   |\n",
      "| @I12@ |   Dylan /Nilson/   |    M   |  1989-11-29 |  29 |  True  |     NA    |  @F5@ |     NA    |\n",
      "| @I13@ |   Kitty /Nilson/   |    F   |   1980-7-10 |  39 |  True  |     NA    |  @F5@ |    @F8@   |\n",
      "| @I14@ |    Bella /Colon/   |    F   |   1995-3-9  |  24 |  True  |     NA    |  @F6@ |     NA    |\n",
      "| @I15@ |   Minnie /Colon/   |    F   |   1998-10-6 |  20 |  True  |     NA    |  @F6@ |     NA    |\n",
      "| @I16@ |    Davis /Hill/    |    M   |   1970-6-6  |  49 |  True  |     NA    |   NA  |    @F7@   |\n",
      "| @I17@ |   Gaberial /Hill/  |    F   |   2001-5-5  |  18 |  True  |     NA    |  @F7@ |     NA    |\n",
      "| @I18@ |  George /Nickson/  |    M   |   1974-3-17 |  45 |  True  |     NA    |   NA  |    @F8@   |\n",
      "| @I19@ |  Micheal /Nickson/ |    M   |   2009-9-17 |   9 |  True  |     NA    |  @F8@ |     NA    |\n",
      "+-------+--------------------+--------+-------------+-----+--------+-----------+-------+-----------+\n",
      "+------+-------------+-----------+------------+-------------------+---------+-----------------+---------------+\n",
      "|  ID  |   Married   |  Divorced | Husband ID |    Husband Name   | Wife ID |    Wife Name    |    Children   |\n",
      "+------+-------------+-----------+------------+-------------------+---------+-----------------+---------------+\n",
      "| @F1@ |   1941-11-5 |     NA    |    @I1@    |    Jimmy /Colon/  |   @I2@  |   Helen /Colon/ |  @I3@@I4@@I5@ |\n",
      "| @F2@ |      NA     |     NA    |     NA     |         NA        |    NA   |        NA       |      @I1@     |\n",
      "| @F3@ |   1988-8-4  |     NA    |    @I6@    |  Micheal /Huston/ |   @I3@  |   Dora /Colon/  |      @I10@    |\n",
      "| @F4@ |   1972-7-3  |  1980-4-3 |    @I7@    |   Samul /Hilson/  |   @I3@  |   Dora /Colon/  |      @I11@    |\n",
      "| @F5@ |  1972-10-15 |     NA    |    @I8@    |   Henry /Nilson/  |   @I4@  |   Rurra /Colon/ |   @I12@@I13@  |\n",
      "| @F6@ |   1989-6-8  |     NA    |    @I5@    |    John /Colon/   |   @I9@  |   Alex /Colon/  |   @I14@@I15@  |\n",
      "| @F7@ |      NA     |     NA    |    @I16@   |    Davis /Hill/   |   @I11@ |  Cathie /Colon/ |      @I17@    |\n",
      "| @F8@ |   1991-3-24 |     NA    |    @I18@   |  George /Nickson/ |   @I13@ |  Kitty /Nilson/ |      @I19@    |\n",
      "+------+-------------+-----------+------------+-------------------+---------+-----------------+---------------+\n"
     ]
    }
   ],
   "source": [
    "document = read_in(\"./myTest.ged\")\n",
    "create_individuals_map()\n",
    "create_family_dic()\n",
    "family_dic\n",
    "printIndividualTable()\n",
    "printFamilyTable()"
   ]
  },
  {
   "cell_type": "code",
   "execution_count": null,
   "metadata": {},
   "outputs": [],
   "source": []
  }
 ],
 "metadata": {
  "kernelspec": {
   "display_name": "Python 3",
   "language": "python",
   "name": "python3"
  },
  "language_info": {
   "codemirror_mode": {
    "name": "ipython",
    "version": 3
   },
   "file_extension": ".py",
   "mimetype": "text/x-python",
   "name": "python",
   "nbconvert_exporter": "python",
   "pygments_lexer": "ipython3",
   "version": "3.6.5"
  }
 },
 "nbformat": 4,
 "nbformat_minor": 2
}
