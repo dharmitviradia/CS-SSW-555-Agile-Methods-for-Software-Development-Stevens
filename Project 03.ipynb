{
 "cells": [
  {
   "cell_type": "code",
   "execution_count": 31,
   "metadata": {},
   "outputs": [],
   "source": [
    "#Data Structure \n",
    "tag_sp=[\"INDI\", \"FAM\"]\n",
    "tag_zero=[\"HEAD\", \"TRLR\", \"NOTE\"]\n",
    "tag_one=[\"NAME\", \"SEX\", \"BIRT\", \"DEAT\",\"FAMC\",\"FAMS\",\"MARR\", \"DIV\",\"HUSB\",\"WIFE\",\"CHIL\"]\n",
    "tag_fam={\"INDI\":[\"NAME\", \"SEX\",\"BIRT\", \"DEAT\",\"FAMC\",\"FAMS\"],\n",
    "             \"FAM\":[\"MARR\", \"DIV\",\"HUSB\",\"WIFE\",\"CHIL\"], \n",
    "             \"DATE\":[\"BIRT\", \"DEAT\", \"DIV\", \"MARR\"]}\n"
   ]
  },
  {
   "cell_type": "code",
   "execution_count": 32,
   "metadata": {},
   "outputs": [],
   "source": [
    "def isDateP(A):\n",
    "    if A[1] in tag_fam[\"DATE\"]:\n",
    "        return True\n",
    "    else:\n",
    "        return False"
   ]
  },
  {
   "cell_type": "code",
   "execution_count": 35,
   "metadata": {},
   "outputs": [],
   "source": [
    "def read_in(file):\n",
    "    doc={\"INDI\":[], \"FAM\":[]}\n",
    "    dic={}\n",
    "    flag=False\n",
    "    with open(file) as f:\n",
    "        for line in f:\n",
    "            A=line.strip().split(\" \")\n",
    "            if len(A)==3 and A[0]=='0' and A[2]== \"INDI\":\n",
    "                if dic:\n",
    "                    doc[fam].append(dic)  \n",
    "                fam=\"INDI\"\n",
    "                dic={}\n",
    "                dic[\"INDI\"]=A[1]\n",
    "            elif len(A)==3 and A[0]=='0' and A[2]==\"FAM\":\n",
    "                if dic:\n",
    "                    doc[fam].append(dic) \n",
    "                fam=\"FAM\"\n",
    "                dic={}\n",
    "                dic[\"FAM\"]=A[1]\n",
    "            elif (A[1]==\"DATE\" and flag):\n",
    "                flag=False\n",
    "                dic[tmp]=' '.join(A[2:])\n",
    "            elif A[0]=='1' and A[1] in tag_one:\n",
    "                if (isDateP(A)):\n",
    "                    tmp=A[1]\n",
    "                    flag=True\n",
    "                else:\n",
    "                    dic[A[1]]=' '.join(A[2:])\n",
    "        return doc   \n",
    "            \n",
    "            \n",
    "                \n",
    "            \n",
    "                "
   ]
  },
  {
   "cell_type": "code",
   "execution_count": 36,
   "metadata": {},
   "outputs": [],
   "source": [
    "document= read_in(\"./myTest.ged\")"
   ]
  },
  {
   "cell_type": "code",
   "execution_count": 44,
   "metadata": {},
   "outputs": [
    {
     "name": "stdout",
     "output_type": "stream",
     "text": [
      "1\n"
     ]
    }
   ],
   "source": [
    "if \"DEAT\" not in document[\"INDI\"][3]:\n",
    "    print(1)\n",
    "    "
   ]
  },
  {
   "cell_type": "code",
   "execution_count": null,
   "metadata": {},
   "outputs": [],
   "source": []
  }
 ],
 "metadata": {
  "kernelspec": {
   "display_name": "Python 3",
   "language": "python",
   "name": "python3"
  },
  "language_info": {
   "codemirror_mode": {
    "name": "ipython",
    "version": 3
   },
   "file_extension": ".py",
   "mimetype": "text/x-python",
   "name": "python",
   "nbconvert_exporter": "python",
   "pygments_lexer": "ipython3",
   "version": "3.6.5"
  }
 },
 "nbformat": 4,
 "nbformat_minor": 2
}
