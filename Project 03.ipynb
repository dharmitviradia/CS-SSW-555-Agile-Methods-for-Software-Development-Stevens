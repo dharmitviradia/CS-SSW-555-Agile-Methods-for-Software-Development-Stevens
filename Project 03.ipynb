{
 "cells": [
  {
   "cell_type": "code",
   "execution_count": 43,
   "metadata": {},
   "outputs": [],
   "source": [
    "#Data Structure \n",
    "tag_sp=[\"INDI\", \"FAM\"]\n",
    "tag_zero=[\"HEAD\", \"TRLR\", \"NOTE\"]\n",
    "tag_one=[\"NAME\", \"SEX\", \"BIRT\", \"DEAT\",\"FAMC\",\"FAMS\",\"MARR\", \"DIV\",\"HUSB\",\"WIFE\",\"CHIL\"]\n",
    "tag_fam={\"INDI\":[\"NAME\", \"SEX\",\"BIRT\", \"DEAT\",\"FAMC\",\"FAMS\"],\n",
    "             \"FAM\":[\"MARR\", \"DIV\",\"HUSB\",\"WIFE\",\"CHIL\"], \n",
    "             \"DATE\":[\"BIRT\", \"DEAT\", \"DIV\", \"MARR\"]}\n"
   ]
  },
  {
   "cell_type": "code",
   "execution_count": 44,
   "metadata": {},
   "outputs": [],
   "source": [
    "def isDateP(A):\n",
    "    return A[1] in tag_fam[\"DATE\"]"
   ]
  },
  {
   "cell_type": "code",
   "execution_count": 45,
   "metadata": {},
   "outputs": [],
   "source": [
    "def month_to_num(shortMonth):\n",
    "    return{\n",
    "        'JAN' : \"1\",\n",
    "        'FEB' : \"2\",\n",
    "        'MAR' : \"3\",\n",
    "        'APR' : \"4\",\n",
    "        'MAY' : \"5\",\n",
    "        'JUN' : \"6\",\n",
    "        'JUL' : \"7\",\n",
    "        'AUG' : \"8\",\n",
    "        'SEP' : \"9\", \n",
    "        'OCT' : \"10\",\n",
    "        'NOV' : \"11\",\n",
    "        'DEC' : \"12\"\n",
    "    }[shortMonth]"
   ]
  },
  {
   "cell_type": "code",
   "execution_count": 46,
   "metadata": {},
   "outputs": [],
   "source": [
    "def convert_date(date_arr):\n",
    "    return date_arr[2] + \"-\" + month_to_num(date_arr[1]) + \"-\" + date_arr[0]\n",
    "    "
   ]
  },
  {
   "cell_type": "code",
   "execution_count": 56,
   "metadata": {},
   "outputs": [],
   "source": [
    "from datetime import datetime\n",
    "\n",
    "def determine_age(birth_date, death_date):\n",
    "    if death_date:\n",
    "        return int(death_date.split('-')[0]) - int(birth_date.split('-')[0])\n",
    "    else:\n",
    "        today = datetime.today()\n",
    "        return today.year - int(birth_date.split('-')[0])"
   ]
  },
  {
   "cell_type": "code",
   "execution_count": 57,
   "metadata": {},
   "outputs": [],
   "source": [
    "def read_in(file):\n",
    "    doc={\"INDI\":[], \"FAM\":[]}\n",
    "    dic={}\n",
    "    flag=False\n",
    "    with open(file) as f:\n",
    "        for line in f:\n",
    "            A=line.strip().split(\" \")\n",
    "            if len(A)==3 and A[0]=='0' and A[2]== \"INDI\":\n",
    "                if dic:\n",
    "                    if fam == 'INDI':\n",
    "                        if 'DEAT' in dic:\n",
    "                            age = determine_age(dic['BIRT'], dic['DEAT'])\n",
    "                        else:\n",
    "                            age = determine_age(dic['BIRT'], None)\n",
    "                        dic['Age'] = age\n",
    "                    doc[fam].append(dic)\n",
    "                fam=\"INDI\"\n",
    "                dic={}\n",
    "                dic[\"INDI\"]=A[1]\n",
    "            elif len(A)==3 and A[0]=='0' and A[2]==\"FAM\":\n",
    "                if dic:\n",
    "                    doc[fam].append(dic) \n",
    "                fam=\"FAM\"\n",
    "                dic={}\n",
    "                dic[\"FAM\"]=A[1]\n",
    "            elif (A[1]==\"DATE\" and flag):\n",
    "                flag=False\n",
    "                date_arr = A[2:]\n",
    "                dic[tmp]= convert_date(date_arr)\n",
    "                # TODO add function to convert date\n",
    "            elif A[0]=='1' and A[1] in tag_one:\n",
    "                if (isDateP(A)):\n",
    "                    tmp=A[1]\n",
    "                    flag=True\n",
    "                else:\n",
    "                    dic[A[1]]=' '.join(A[2:])\n",
    "        return doc   \n",
    "            \n",
    "            \n",
    "                \n",
    "            \n",
    "                "
   ]
  },
  {
   "cell_type": "code",
   "execution_count": 58,
   "metadata": {},
   "outputs": [],
   "source": [
    "document= read_in(\"./myTest.ged\")"
   ]
  },
  {
   "cell_type": "code",
   "execution_count": 59,
   "metadata": {},
   "outputs": [],
   "source": [
    "if \"DEAT\" not in document[\"INDI\"][3]:\n",
    "    print(1)\n",
    "    "
   ]
  },
  {
   "cell_type": "code",
   "execution_count": 60,
   "metadata": {},
   "outputs": [
    {
     "data": {
      "text/plain": [
       "{'FAM': [{'CHIL': '@I1@',\n",
       "   'FAM': '@F1@',\n",
       "   'HUSB': '@I2@',\n",
       "   'MARR': '1990-4-11',\n",
       "   'WIFE': '@I3@'},\n",
       "  {'CHIL': '@I2@', 'FAM': '@F2@', 'HUSB': '@I4@', 'WIFE': '@I5@'},\n",
       "  {'CHIL': '@I3@',\n",
       "   'FAM': '@F3@',\n",
       "   'HUSB': '@I6@',\n",
       "   'MARR': '1964-5-5',\n",
       "   'WIFE': '@I7@'}],\n",
       " 'INDI': [{'Age': 25,\n",
       "   'BIRT': '1994-10-27',\n",
       "   'FAMC': '@F1@',\n",
       "   'INDI': '@I1@',\n",
       "   'NAME': 'John /Potter/',\n",
       "   'SEX': 'M'},\n",
       "  {'Age': 52,\n",
       "   'BIRT': '1967-7-1',\n",
       "   'FAMC': '@F2@',\n",
       "   'FAMS': '@F1@',\n",
       "   'INDI': '@I2@',\n",
       "   'NAME': 'Chandler /Potter/',\n",
       "   'SEX': 'M'},\n",
       "  {'Age': 51,\n",
       "   'BIRT': '1968-6-15',\n",
       "   'FAMC': '@F3@',\n",
       "   'FAMS': '@F1@',\n",
       "   'INDI': '@I3@',\n",
       "   'NAME': 'Monica /Scott/',\n",
       "   'SEX': 'F'},\n",
       "  {'Age': 75,\n",
       "   'BIRT': '1930-11-3',\n",
       "   'DEAT': '2005-11-16',\n",
       "   'FAMS': '@F2@',\n",
       "   'INDI': '@I4@',\n",
       "   'NAME': 'Ross /Potter/',\n",
       "   'SEX': 'M'},\n",
       "  {'Age': 80,\n",
       "   'BIRT': '1939-3-18',\n",
       "   'FAMS': '@F2@',\n",
       "   'INDI': '@I5@',\n",
       "   'NAME': 'Rachel /Halpert/',\n",
       "   'SEX': 'F'},\n",
       "  {'Age': 83,\n",
       "   'BIRT': '1936-9-5',\n",
       "   'FAMS': '@F3@',\n",
       "   'INDI': '@I6@',\n",
       "   'NAME': 'Sid /Scott/',\n",
       "   'SEX': 'M'},\n",
       "  {'Age': 83,\n",
       "   'BIRT': '1936-12-7',\n",
       "   'FAMS': '@F4@',\n",
       "   'INDI': '@I7@',\n",
       "   'NAME': 'Pam /Malone/',\n",
       "   'SEX': 'F'},\n",
       "  {'Age': 76,\n",
       "   'BIRT': '1932-9-5',\n",
       "   'DEAT': '2008-6-5',\n",
       "   'FAMS': '@F4@',\n",
       "   'INDI': '@I8@',\n",
       "   'NAME': 'Roy /Shrute/',\n",
       "   'SEX': 'M'},\n",
       "  {'BIRT': '1960-4-4',\n",
       "   'FAMC': '@F4@',\n",
       "   'INDI': '@I9@',\n",
       "   'NAME': 'April /Dwyer/',\n",
       "   'SEX': 'F'}]}"
      ]
     },
     "execution_count": 60,
     "metadata": {},
     "output_type": "execute_result"
    }
   ],
   "source": [
    "document"
   ]
  },
  {
   "cell_type": "code",
   "execution_count": null,
   "metadata": {},
   "outputs": [],
   "source": []
  }
 ],
 "metadata": {
  "kernelspec": {
   "display_name": "Python 2",
   "language": "python",
   "name": "python2"
  },
  "language_info": {
   "codemirror_mode": {
    "name": "ipython",
    "version": 2
   },
   "file_extension": ".py",
   "mimetype": "text/x-python",
   "name": "python",
   "nbconvert_exporter": "python",
   "pygments_lexer": "ipython2",
   "version": "2.7.15"
  }
 },
 "nbformat": 4,
 "nbformat_minor": 2
}
