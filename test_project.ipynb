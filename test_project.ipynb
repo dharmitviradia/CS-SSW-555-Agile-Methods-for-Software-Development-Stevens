{
 "cells": [
  {
   "cell_type": "code",
   "execution_count": 1,
   "metadata": {},
   "outputs": [
    {
     "name": "stdout",
     "output_type": "stream",
     "text": [
      "Requirement already satisfied: prettytable in /anaconda3/lib/python3.6/site-packages (0.7.2)\n",
      "\u001b[31msmart-open 1.7.1 requires bz2file, which is not installed.\u001b[0m\n",
      "\u001b[31mdistributed 1.21.8 requires msgpack, which is not installed.\u001b[0m\n",
      "\u001b[33mYou are using pip version 10.0.1, however version 19.2.3 is available.\n",
      "You should consider upgrading via the 'pip install --upgrade pip' command.\u001b[0m\n",
      "+-------+--------------------+--------+-------------+-----+--------+-----------+-------+-----------+\n",
      "|   ID  |        Name        | Gender |   Birthday  | Age | Alive  |   Death   | Child |   Spouse  |\n",
      "+-------+--------------------+--------+-------------+-----+--------+-----------+-------+-----------+\n",
      "|  @I1@ |    Jimmy /Colon/   |    M   |   1912-6-5  |  85 |  False |  1998-5-2 |  @F2@ |    @F1@   |\n",
      "|  @I2@ |    Helen /Colon/   |    F   |  1920-12-10 |  81 |  False |  2002-6-2 |   NA  |    @F1@   |\n",
      "|  @I3@ |    Dora /Colon/    |    F   |   1951-4-5  |  68 |  True  |     NA    |  @F1@ |  @F3@@F4@ |\n",
      "|  @I4@ |    Rurra /Colon/   |    F   |   1952-9-8  |  66 |  True  |     NA    |  @F1@ |    @F5@   |\n",
      "|  @I5@ |    John /Colon/    |    M   |   1957-5-11 |  62 |  True  |     NA    |  @F1@ |    @F6@   |\n",
      "|  @I6@ |  Micheal /Huston/  |    M   |   1950-5-10 |  69 |  True  |     NA    |   NA  |    @F3@   |\n",
      "|  @I7@ |   Samul /Hilson/   |    M   |   1952-7-5  |  67 |  True  |     NA    |   NA  |    @F4@   |\n",
      "|  @I8@ |   Henry /Nilson/   |    M   |   1950-9-25 |  68 |  True  |     NA    |   NA  |    @F5@   |\n",
      "|  @I9@ |    Alex /Colon/    |    F   |  1965-12-27 |  53 |  True  |     NA    |   NA  |    @F6@   |\n",
      "| @I10@ |   Kevin /Huston/   |    M   |   1990-8-4  |  29 |  True  |     NA    |  @F3@ |     NA    |\n",
      "| @I11@ |   Cathie /Colon/   |    F   |   1974-6-2  |  45 |  True  |     NA    |  @F4@ |    @F7@   |\n",
      "| @I12@ |   Dylan /Nilson/   |    M   |  1989-11-29 |  29 |  True  |     NA    |  @F5@ |     NA    |\n",
      "| @I13@ |   Kitty /Nilson/   |    F   |   1980-7-10 |  39 |  True  |     NA    |  @F5@ |    @F8@   |\n",
      "| @I14@ |    Bella /Colon/   |    F   |   1995-3-9  |  24 |  True  |     NA    |  @F6@ |     NA    |\n",
      "| @I15@ |   Minnie /Colon/   |    F   |   1998-10-6 |  20 |  True  |     NA    |  @F6@ |     NA    |\n",
      "| @I16@ |    Davis /Hill/    |    M   |   1970-6-6  |  49 |  True  |     NA    |   NA  |    @F7@   |\n",
      "| @I17@ |   Gaberial /Hill/  |    F   |   2001-5-5  |  18 |  True  |     NA    |  @F7@ |     NA    |\n",
      "| @I18@ |  George /Nickson/  |    M   |   1974-3-17 |  45 |  True  |     NA    |   NA  |    @F8@   |\n",
      "| @I19@ |  Micheal /Nickson/ |    M   |   2009-9-17 |   9 |  True  |     NA    |  @F8@ |     NA    |\n",
      "+-------+--------------------+--------+-------------+-----+--------+-----------+-------+-----------+\n",
      "+------+-------------+-----------+------------+-------------------+---------+-----------------+---------------+\n",
      "|  ID  |   Married   |  Divorced | Husband ID |    Husband Name   | Wife ID |    Wife Name    |    Children   |\n",
      "+------+-------------+-----------+------------+-------------------+---------+-----------------+---------------+\n",
      "| @F1@ |   1941-11-5 |     NA    |    @I1@    |    Jimmy /Colon/  |   @I2@  |   Helen /Colon/ |  @I3@@I4@@I5@ |\n",
      "| @F2@ |      NA     |     NA    |     NA     |         NA        |    NA   |        NA       |      @I1@     |\n",
      "| @F3@ |   1988-8-4  |     NA    |    @I6@    |  Micheal /Huston/ |   @I3@  |   Dora /Colon/  |      @I10@    |\n",
      "| @F4@ |   1972-7-3  |  1980-4-3 |    @I7@    |   Samul /Hilson/  |   @I3@  |   Dora /Colon/  |      @I11@    |\n",
      "| @F5@ |  1972-10-15 |     NA    |    @I8@    |   Henry /Nilson/  |   @I4@  |   Rurra /Colon/ |   @I12@@I13@  |\n",
      "| @F6@ |   1989-6-8  |     NA    |    @I5@    |    John /Colon/   |   @I9@  |   Alex /Colon/  |   @I14@@I15@  |\n",
      "| @F7@ |      NA     |     NA    |    @I16@   |    Davis /Hill/   |   @I11@ |  Cathie /Colon/ |      @I17@    |\n",
      "| @F8@ |   1991-3-24 |     NA    |    @I18@   |  George /Nickson/ |   @I13@ |  Kitty /Nilson/ |      @I19@    |\n",
      "+------+-------------+-----------+------------+-------------------+---------+-----------------+---------------+\n",
      "User_Story_29: List all deceased individuals in a GEDCOM file\n",
      "+------+----------------+--------+-------------+-----+--------+-----------+\n",
      "|  ID  |      Name      | Gender |   Birthday  | Age | Alive  |   Death   |\n",
      "+------+----------------+--------+-------------+-----+--------+-----------+\n",
      "| @I1@ |  Jimmy /Colon/ |    M   |   1912-6-5  |  85 |  False |  1998-5-2 |\n",
      "| @I2@ |  Helen /Colon/ |    F   |  1920-12-10 |  81 |  False |  2002-6-2 |\n",
      "+------+----------------+--------+-------------+-----+--------+-----------+\n",
      "User_Story_30: List all living married people in a GEDCOM file\n",
      "+-------+-------------------+--------+-------------+-----+-------+-------+-----------+\n",
      "|   ID  |        Name       | Gender |   Birthday  | Age | Alive | Death |   Spouse  |\n",
      "+-------+-------------------+--------+-------------+-----+-------+-------+-----------+\n",
      "|  @I3@ |    Dora /Colon/   |    F   |   1951-4-5  |  68 |  True |   NA  |  @F3@@F4@ |\n",
      "|  @I4@ |    Rurra /Colon/  |    F   |   1952-9-8  |  66 |  True |   NA  |    @F5@   |\n",
      "|  @I5@ |    John /Colon/   |    M   |   1957-5-11 |  62 |  True |   NA  |    @F6@   |\n",
      "|  @I6@ |  Micheal /Huston/ |    M   |   1950-5-10 |  69 |  True |   NA  |    @F3@   |\n",
      "|  @I7@ |   Samul /Hilson/  |    M   |   1952-7-5  |  67 |  True |   NA  |    @F4@   |\n",
      "|  @I8@ |   Henry /Nilson/  |    M   |   1950-9-25 |  68 |  True |   NA  |    @F5@   |\n",
      "|  @I9@ |    Alex /Colon/   |    F   |  1965-12-27 |  53 |  True |   NA  |    @F6@   |\n",
      "| @I11@ |   Cathie /Colon/  |    F   |   1974-6-2  |  45 |  True |   NA  |    @F7@   |\n",
      "| @I13@ |   Kitty /Nilson/  |    F   |   1980-7-10 |  39 |  True |   NA  |    @F8@   |\n",
      "| @I16@ |    Davis /Hill/   |    M   |   1970-6-6  |  49 |  True |   NA  |    @F7@   |\n",
      "| @I18@ |  George /Nickson/ |    M   |   1974-3-17 |  45 |  True |   NA  |    @F8@   |\n",
      "+-------+-------------------+--------+-------------+-----+-------+-------+-----------+\n",
      "------error messages------\n",
      "ERROR: INDIVIDUAL: US30 Deceased Person @I1@ who is Married to @F1@\n",
      "ERROR: INDIVIDUAL: US30 Deceased Person @I2@ who is Married to @F1@\n"
     ]
    }
   ],
   "source": [
    "import pytest\n",
    "import unittest\n",
    "import Project as project"
   ]
  },
  {
   "cell_type": "code",
   "execution_count": 4,
   "metadata": {},
   "outputs": [],
   "source": [
    "def test_more_than_15_siblings():\n",
    "    family_dic = {'@F1@':{'CHIL':'@I24@','DIV':'NA','FAM':'@F1@','FAM_CHILD':['@I1@','@I10@','@I11@','@I12@','@I13@','@I14@','@I15@','@I16@','@I17@','@I18@','@I19@','@I20@','@I21@','@I22@','@I23@','@I24@','@I24@'],'HUSB':'@I2@','HUSB_NAME':'Chandler/Potter/','MARR':'1990-4-11','WIFE':'@I3@','WIFE_NAME':'Monica/Scott/','children_objects':[{'AGE':'25','ALIVE':True,'BIRT':'1994-10-27','DEAT':'NA','INDI':'@I1@','INDI_CHILD':['@F1@'],'NAME':'John/Pottere/','SEX':'M','SPOUSE':'NA'},{'AGE':'24','ALIVE':True,'BIRT':'1995-3-3','DEAT':'NA','INDI':'@I10@','INDI_CHILD':['@F1@'],'NAME':'Harry/Potter/','SEX':'M','SPOUSE':'NA'},{'AGE':'25','ALIVE':True,'BIRT':'1994-10-27','DEAT':'NA','INDI':'@I11@','INDI_CHILD':['@F1@'],'NAME':'John1/Potter/','SEX':'M','SPOUSE':'NA'},{'AGE':'25','ALIVE':True,'BIRT':'1994-10-27','DEAT':'NA','INDI':'@I12@','INDI_CHILD':['@F1@'],'NAME':'John1/Potter/','SEX':'M','SPOUSE':'NA'},{'AGE':'25','ALIVE':True,'BIRT':'1994-10-27','DEAT':'NA','INDI':'@I13@','INDI_CHILD':['@F1@'],'NAME':'John1/Potter/','SEX':'M','SPOUSE':'NA'},{'AGE':'25','ALIVE':True,'BIRT':'1994-10-27','DEAT':'NA','INDI':'@I14@','INDI_CHILD':['@F1@'],'NAME':'John1/Potter/','SEX':'M','SPOUSE':'NA'},{'AGE':'25','ALIVE':True,'BIRT':'1994-10-27','DEAT':'NA','INDI':'@I15@','INDI_CHILD':['@F1@'],'NAME':'John1/Potter/','SEX':'M','SPOUSE':'NA'},{'AGE':'25','ALIVE':True,'BIRT':'1994-10-27','DEAT':'NA','INDI':'@I16@','INDI_CHILD':['@F1@'],'NAME':'John1/Potter/','SEX':'M','SPOUSE':'NA'},{'AGE':'25','ALIVE':True,'BIRT':'1994-10-27','DEAT':'NA','INDI':'@I17@','INDI_CHILD':['@F1@'],'NAME':'John1/Potter/','SEX':'M','SPOUSE':'NA'},{'AGE':'25','ALIVE':True,'BIRT':'1994-10-27','DEAT':'NA','INDI':'@I18@','INDI_CHILD':['@F1@'],'NAME':'John1/Potter/','SEX':'M','SPOUSE':'NA'},{'AGE':'25','ALIVE':True,'BIRT':'1994-10-27','DEAT':'NA','INDI':'@I19@','INDI_CHILD':['@F1@'],'NAME':'John1/Potter/','SEX':'M','SPOUSE':'NA'},{'AGE':'25','ALIVE':True,'BIRT':'1994-10-27','DEAT':'NA','INDI':'@I20@','INDI_CHILD':['@F1@'],'NAME':'John1/Potter/','SEX':'M','SPOUSE':'NA'},{'AGE':'25','ALIVE':True,'BIRT':'1994-10-27','DEAT':'NA','INDI':'@I21@','INDI_CHILD':['@F1@'],'NAME':'John1/Potter/','SEX':'M','SPOUSE':'NA'},{'AGE':'25','ALIVE':True,'BIRT':'1994-10-27','DEAT':'NA','INDI':'@I22@','INDI_CHILD':['@F1@'],'NAME':'John1/Potter/','SEX':'M','SPOUSE':'NA'},{'AGE':'25','ALIVE':True,'BIRT':'1994-10-27','DEAT':'NA','INDI':'@I23@','INDI_CHILD':['@F1@'],'NAME':'John1/Potter/','SEX':'M','SPOUSE':'NA'},{'AGE':'25','ALIVE':True,'BIRT':'1994-10-27','DEAT':'NA','INDI':'@I24@','INDI_CHILD':['@F1@'],'NAME':'John1/Potter/','SEX':'M','SPOUSE':'NA'},{'AGE':'25','ALIVE':True,'BIRT':'1994-10-27','DEAT':'NA','INDI':'@I24@','INDI_CHILD':['@F1@'],'NAME':'John1/Potter/','SEX':'M','SPOUSE':'NA'}],'husband_object':{'AGE':'52','ALIVE':True,'BIRT':'1967-7-1','DEAT':'NA','INDI':'@I2@','INDI_CHILD':['@F2@'],'NAME':'Chandler/Potter/','SEX':'M','SPOUSE':['@F1@']},'wife_object':{'AGE':'51','ALIVE':True,'BIRT':'1968-6-15','DEAT':'NA','INDI':'@I3@','INDI_CHILD':['@F3@'],'NAME':'Monica/Scott/','SEX':'F','SPOUSE':['@F1@']}},'@F2@':{'CHIL':'@I2@','DIV':'NA','FAM':'@F2@','FAM_CHILD':['@I2@'],'HUSB':'@I4@','HUSB_NAME':'Ross/Potter/','MARR':'NA','WIFE':'@I5@','WIFE_NAME':'Rachel/Halpert/','children_objects':[{'AGE':'52','ALIVE':True,'BIRT':'1967-7-1','DEAT':'NA','INDI':'@I2@','INDI_CHILD':['@F2@'],'NAME':'Chandler/Potter/','SEX':'M','SPOUSE':['@F1@']}],'husband_object':{'AGE':'75','ALIVE':False,'BIRT':'1930-11-3','DEAT':'2005-11-16','INDI':'@I4@','INDI_CHILD':'NA','NAME':'Ross/Potter/','SEX':'M','SPOUSE':['@F2@']},'wife_object':{'AGE':'80','ALIVE':True,'BIRT':'1939-3-18','DEAT':'NA','INDI':'@I5@','INDI_CHILD':'NA','NAME':'Rachel/Halpert/','SEX':'F','SPOUSE':['@F2@']}},'@F3@':{'CHIL':'@I3@','DIV':'NA','FAM':'@F3@','FAM_CHILD':['@I3@'],'HUSB':'@I6@','HUSB_NAME':'Sid/Scott/','MARR':'1964-5-5','WIFE':'@I7@','WIFE_NAME':'Pam/Malone/','children_objects':[{'AGE':'51','ALIVE':True,'BIRT':'1968-6-15','DEAT':'NA','INDI':'@I3@','INDI_CHILD':['@F3@'],'NAME':'Monica/Scott/','SEX':'F','SPOUSE':['@F1@']}],'husband_object':{'AGE':'83','ALIVE':True,'BIRT':'1936-9-5','DEAT':'NA','INDI':'@I6@','INDI_CHILD':'NA','NAME':'Sid/Scott/','SEX':'M','SPOUSE':['@F3@']},'wife_object':{'AGE':'83','ALIVE':True,'BIRT':'1936-12-7','DEAT':'NA','INDI':'@I7@','INDI_CHILD':'NA','NAME':'Pam/Malone/','SEX':'F','SPOUSE':['@F3@','@F4@']}},'@F4@':{'CHIL':'@I9@','DIV':'1962-9-12','FAM':'@F4@','FAM_CHILD':['@I9@'],'HUSB':'@I8@','HUSB_NAME':'Roy/Shrute/','MARR':'1958-5-12','WIFE':'@I7@','WIFE_NAME':'Pam/Malone/','children_objects':[{'AGE':'59','ALIVE':True,'BIRT':'1960-4-4','DEAT':'NA','INDI':'@I9@','INDI_CHILD':['@F4@'],'NAME':'April/Dwyer/','SEX':'F','SPOUSE':'NA'}],'husband_object':{'AGE':'76','ALIVE':False,'BIRT':'1932-9-5','DEAT':'2008-6-5','INDI':'@I8@','INDI_CHILD':'NA','NAME':'Roy/Shrute/','SEX':'M','SPOUSE':['@F4@']},'wife_object':{'AGE':'83','ALIVE':True,'BIRT':'1936-12-7','DEAT':'NA','INDI':'@I7@','INDI_CHILD':'NA','NAME':'Pam/Malone/','SEX':'F','SPOUSE':['@F3@','@F4@']}}}\n",
    "    project.family_dic = family_dic\n",
    "    \n",
    "    result = project.is_marriage_legal()\n",
    "    \n",
    "    "
   ]
  },
  {
   "cell_type": "code",
   "execution_count": 5,
   "metadata": {},
   "outputs": [],
   "source": [
    "test_more_than_15_siblings()"
   ]
  },
  {
   "cell_type": "code",
   "execution_count": null,
   "metadata": {},
   "outputs": [],
   "source": []
  }
 ],
 "metadata": {
  "kernelspec": {
   "display_name": "Python 3",
   "language": "python",
   "name": "python3"
  },
  "language_info": {
   "codemirror_mode": {
    "name": "ipython",
    "version": 3
   },
   "file_extension": ".py",
   "mimetype": "text/x-python",
   "name": "python",
   "nbconvert_exporter": "python",
   "pygments_lexer": "ipython3",
   "version": "3.6.5"
  }
 },
 "nbformat": 4,
 "nbformat_minor": 2
}
