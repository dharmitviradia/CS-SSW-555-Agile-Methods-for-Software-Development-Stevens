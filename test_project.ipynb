{
 "cells": [
  {
   "cell_type": "code",
   "execution_count": 23,
   "metadata": {},
   "outputs": [],
   "source": [
    "import pytest\n",
    "import unittest\n",
    "import mock\n",
    "import Project\n",
    "from io import StringIO\n",
    "import sys"
   ]
  },
  {
   "cell_type": "code",
   "execution_count": 24,
   "metadata": {},
   "outputs": [],
   "source": [
    "def test_not_legal_marriage():\n",
    "    family_dic =  {'@F8@': {'FAM': '@F8@',\n",
    "  'HUSB_NAME': 'George /Nickson/',\n",
    "  'HUSB': '@I18@',\n",
    "  'WIFE_NAME': 'Kitty /Nilson/',\n",
    "  'WIFE': '@I13@',\n",
    "  'FAM_CHILD': ['@I19@'],\n",
    "  'CHIL': '@I19@',\n",
    "  'MARR': '1991-3-24',\n",
    "  'DIV': 'NA',\n",
    "  'husband_object': {'INDI': '@I18@',\n",
    "   'NAME': 'George /Nickson/',\n",
    "   'SEX': 'M',\n",
    "   'BIRT': '1980-3-17',\n",
    "   'INDI_CHILD': 'NA',\n",
    "   'SPOUSE': ['@F8@'],\n",
    "   'DEAT': 'NA',\n",
    "   'AGE': '45',\n",
    "   'ALIVE': True},\n",
    "  'wife_object': {'INDI': '@I13@',\n",
    "   'NAME': 'Kitty /Nilson/',\n",
    "   'SEX': 'F',\n",
    "   'BIRT': '1980-7-10',\n",
    "   'INDI_CHILD': ['@F5@'],\n",
    "   'SPOUSE': ['@F8@'],\n",
    "   'DEAT': 'NA',\n",
    "   'AGE': '39',\n",
    "   'ALIVE': True}}}\n",
    "    \n",
    "    Project.family_dic = family_dic\n",
    "    \n",
    "    fake_out = StringIO()\n",
    "    sys.stdout = fake_out\n",
    "    \n",
    "    Project.is_marriage_legal()\n",
    "\n",
    "    sys.stdout = sys.__stdout__\n",
    "    return fake_out.getvalue()=='ANOMOLY: INDIVIDUAL: US07: @I18@: Father George /Nickson/ of family @F8@ is younger than 14.\\nANOMOLY: INDIVIDUAL: US07: @I13@: Wife Kitty /Nilson/ of family @F8@ is younger than 14.\\n'"
   ]
  },
  {
   "cell_type": "code",
   "execution_count": 25,
   "metadata": {},
   "outputs": [],
   "source": [
    "def test_legal_marriage():\n",
    "    family_dic =  {'@F8@': {'FAM': '@F8@',\n",
    "  'HUSB_NAME': 'George /Nickson/',\n",
    "  'HUSB': '@I18@',\n",
    "  'WIFE_NAME': 'Kitty /Nilson/',\n",
    "  'WIFE': '@I13@',\n",
    "  'FAM_CHILD': ['@I19@'],\n",
    "  'CHIL': '@I19@',\n",
    "  'MARR': '2000-3-24',\n",
    "  'DIV': 'NA',\n",
    "  'husband_object': {'INDI': '@I18@',\n",
    "   'NAME': 'George /Nickson/',\n",
    "   'SEX': 'M',\n",
    "   'BIRT': '1973-3-17',\n",
    "   'INDI_CHILD': 'NA',\n",
    "   'SPOUSE': ['@F8@'],\n",
    "   'DEAT': 'NA',\n",
    "   'AGE': '45',\n",
    "   'ALIVE': True},\n",
    "  'wife_object': {'INDI': '@I13@',\n",
    "   'NAME': 'Kitty /Nilson/',\n",
    "   'SEX': 'F',\n",
    "   'BIRT': '1980-7-10',\n",
    "   'INDI_CHILD': ['@F5@'],\n",
    "   'SPOUSE': ['@F8@'],\n",
    "   'DEAT': 'NA',\n",
    "   'AGE': '39',\n",
    "   'ALIVE': True}}}\n",
    "    \n",
    "    Project.family_dic = family_dic\n",
    "    \n",
    "    fake_out = StringIO()\n",
    "    sys.stdout = fake_out\n",
    "    \n",
    "    Project.is_marriage_legal()\n",
    "\n",
    "    sys.stdout = sys.__stdout__\n",
    "    return fake_out.getvalue()==\"\""
   ]
  },
  {
   "cell_type": "code",
   "execution_count": 26,
   "metadata": {},
   "outputs": [],
   "source": [
    "def test_legal_marriage():\n",
    "    family_dic =  {'@F8@': {'FAM': '@F8@',\n",
    "  'HUSB_NAME': 'George /Nickson/',\n",
    "  'HUSB': '@I18@',\n",
    "  'WIFE_NAME': 'Kitty /Nilson/',\n",
    "  'WIFE': '@I13@',\n",
    "  'FAM_CHILD': ['@I19@'],\n",
    "  'CHIL': '@I19@',\n",
    "  'MARR': '2000-3-24',\n",
    "  'DIV': 'NA',\n",
    "  'husband_object': {'INDI': '@I18@',\n",
    "   'NAME': 'George /Nickson/',\n",
    "   'SEX': 'M',\n",
    "   'BIRT': '1973-3-17',\n",
    "   'INDI_CHILD': 'NA',\n",
    "   'SPOUSE': ['@F8@'],\n",
    "   'DEAT': 'NA',\n",
    "   'AGE': '45',\n",
    "   'ALIVE': True},\n",
    "  'wife_object': {'INDI': '@I13@',\n",
    "   'NAME': 'Kitty /Nilson/',\n",
    "   'SEX': 'F',\n",
    "   'BIRT': '1980-7-10',\n",
    "   'INDI_CHILD': ['@F5@'],\n",
    "   'SPOUSE': ['@F8@'],\n",
    "   'DEAT': 'NA',\n",
    "   'AGE': '39',\n",
    "   'ALIVE': True}}}\n",
    "    \n",
    "    Project.family_dic = family_dic\n",
    "    \n",
    "    fake_out = StringIO()\n",
    "    sys.stdout = fake_out\n",
    "    \n",
    "    Project.is_marriage_legal()\n",
    "\n",
    "    sys.stdout = sys.__stdout__\n",
    "    return fake_out.getvalue()==\"\""
   ]
  },
  {
   "cell_type": "code",
   "execution_count": 27,
   "metadata": {},
   "outputs": [],
   "source": [
    "def test_over_age_150():\n",
    "    individuals={'@I1@': {'INDI': '@I1@',\n",
    "  'NAME': 'Jimmy /Colon/',\n",
    "  'SEX': 'M',\n",
    "  'BIRT': '1860-6-5',\n",
    "  'INDI_CHILD': ['@F2@'],\n",
    "  'SPOUSE': ['@F1@'],\n",
    "  'DEAT': 'NA',\n",
    "  'AGE': '159',\n",
    "  'ALIVE': True},\n",
    " '@I2@': {'INDI': '@I2@',\n",
    "  'NAME': 'Helen /Colon/',\n",
    "  'SEX': 'F',\n",
    "  'BIRT': '1920-12-10',\n",
    "  'DEAT': '2002-6-2',\n",
    "  'INDI_CHILD': 'NA',\n",
    "  'SPOUSE': ['@F1@'],\n",
    "  'AGE': '81',\n",
    "  'ALIVE': False}}\n",
    "                 \n",
    "    Project.individuals = individuals\n",
    "    \n",
    "    fake_out = StringIO()\n",
    "    sys.stdout = fake_out\n",
    "    \n",
    "    Project.is_age_legal()\n",
    "\n",
    "    sys.stdout = sys.__stdout__\n",
    "    return fake_out.getvalue()=='ANOMOLY: INDIVIDUAL: US10: @I1@: Individual Jimmy /Colon/ is older than 150.\\n'"
   ]
  },
  {
   "cell_type": "code",
   "execution_count": 28,
   "metadata": {},
   "outputs": [],
   "source": [
    "def test_less_age_150():\n",
    "    individuals={'@I3@': {'INDI': '@I3@',\n",
    "  'NAME': 'Dora /Colon/',\n",
    "  'SEX': 'F',\n",
    "  'BIRT': '1951-4-5',\n",
    "  'INDI_CHILD': ['@F1@'],\n",
    "  'SPOUSE': ['@F3@', '@F4@'],\n",
    "  'DEAT': 'NA',\n",
    "  'AGE': '68',\n",
    "  'ALIVE': True},\n",
    " '@I4@': {'INDI': '@I4@',\n",
    "  'NAME': 'Rurra /Colon/',\n",
    "  'SEX': 'F',\n",
    "  'BIRT': '1952-9-8',\n",
    "  'INDI_CHILD': ['@F1@'],\n",
    "  'SPOUSE': ['@F5@'],\n",
    "  'DEAT': 'NA',\n",
    "  'AGE': '66',\n",
    "  'ALIVE': True}}\n",
    "                 \n",
    "    Project.individuals = individuals\n",
    "    \n",
    "    fake_out = StringIO()\n",
    "    sys.stdout = fake_out\n",
    "    \n",
    "    Project.is_age_legal()\n",
    "\n",
    "    sys.stdout = sys.__stdout__\n",
    "    return fake_out.getvalue()==\"\""
   ]
  },
  {
   "cell_type": "code",
   "execution_count": 29,
   "metadata": {},
   "outputs": [],
   "source": [
    "# User_Story_29: List all deceased individuals in a GEDCOM file\n",
    "# Success test \n",
    "@mock.patch(\"Project.printTable\")\n",
    "def test_list_deceased_individuals_success(mock_printTable):\n",
    "    allFields = [\"ID\", \"Name\", \"Gender\", \"Birthday\", \"Age\", \"Alive\", \"Death\"]\n",
    "    tagNames = [\"INDI\", \"NAME\", \"SEX\", \"BIRT\", \"AGE\", \"ALIVE\", \"DEAT\"]\n",
    "    current_dic = {'@I6@': {'INDI': '@I6@', 'NAME': 'Stephen /Chang/', 'SEX': 'M', 'BIRT': '1935-12-5', 'DEAT': '2005-4-15', 'INDI_CHILD': 'NA', 'SPOUSE': ['@F2@'], 'AGE': '70', 'ALIVE': False}}\n",
    "    Project.individuals = current_dic\n",
    "    Project.listDeceased()\n",
    "    mock_printTable.assert_called_with(allFields, tagNames, current_dic)"
   ]
  },
  {
   "cell_type": "code",
   "execution_count": 30,
   "metadata": {},
   "outputs": [],
   "source": [
    "# User_Story_29: List all deceased individuals in a GEDCOM file\n",
    "# Failed test: Person is dead but has no Death Date\n",
    "@mock.patch(\"Project.printTable\")\n",
    "def test_list_deceased_individuals_error(mock_printTable):\n",
    "    allFields = [\"ID\", \"Name\", \"Gender\", \"Birthday\", \"Age\", \"Alive\", \"Death\"]\n",
    "    tagNames = [\"INDI\", \"NAME\", \"SEX\", \"BIRT\", \"AGE\", \"ALIVE\", \"DEAT\"]\n",
    "    current_dic = {'@I6@': {'INDI': '@I6@', 'NAME': 'David /Chang/', 'SEX': 'M', 'BIRT': '2002-12-5', 'DEAT': 'NA', 'INDI_CHILD': 'NA', 'SPOUSE': ['@F7@'], 'AGE': '79', 'ALIVE': False}}\n",
    "    Project.individuals = current_dic\n",
    "    Project.listDeceased()\n",
    "    mock_printTable.assert_called_with(allFields, tagNames, {}) #provide empty dictionary so that it won't overwrite"
   ]
  },
  {
   "cell_type": "code",
   "execution_count": 31,
   "metadata": {},
   "outputs": [],
   "source": [
    "# User_Story_30: List all living married people in a GEDCOM file\n",
    "# Success test\n",
    "@mock.patch(\"Project.printTable\")\n",
    "def test_list_living_married_individuals_success(mock_printTable):\n",
    "\n",
    "    allFields = [\"ID\", \"Name\", \"Gender\", \"Birthday\", \"Age\", \"Alive\", \"Death\", \"Spouse\"]\n",
    "    tagNames = [\"INDI\", \"NAME\", \"SEX\", \"BIRT\", \"AGE\", \"ALIVE\", \"DEAT\", \"SPOUSE\"]\n",
    "    current_dic = {'@I1@': {'INDI': '@I1@', 'NAME': 'Johnny /Chang/', 'SEX': 'M', 'BIRT': '1958-9-6', 'INDI_CHILD': ['@F2@'], 'SPOUSE': ['@F1@'], 'DEAT': 'NA', 'AGE': '61', 'ALIVE': True}}\n",
    "    Project.individuals = current_dic\n",
    "    Project.listLivingMarried()\n",
    "    mock_printTable.assert_called_with(allFields, tagNames, current_dic)"
   ]
  },
  {
   "cell_type": "code",
   "execution_count": 32,
   "metadata": {},
   "outputs": [],
   "source": [
    "# User_Story_30: List all living married people in a GEDCOM file\n",
    "# Failed test\n",
    "@mock.patch(\"Project.printTable\")\n",
    "def test_list_living_married_individuals_error(mock_printTable):\n",
    "    allFields = [\"ID\", \"Name\", \"Gender\", \"Birthday\", \"Age\", \"Alive\", \"Death\", \"Spouse\"]\n",
    "    tagNames = [\"INDI\", \"NAME\", \"SEX\", \"BIRT\", \"AGE\", \"ALIVE\", \"DEAT\", \"SPOUSE\"]\n",
    "    current_dic = {'@I4@': {'INDI': '@I1@', 'NAME': 'Michael /Chang/', 'SEX': 'M', 'BIRT': '1958-9-6', 'INDI_CHILD': ['@F2@'], 'SPOUSE': ['@F3@'], 'DEAT': '2002-9-6', 'AGE': '61', 'ALIVE': False}}\n",
    "    Project.individuals = current_dic\n",
    "    Project.listLivingMarried()\n",
    "    mock_printTable.assert_called_with(allFields, tagNames, {}) #provide empty dictionary so that it won't overwrite"
   ]
  },
  {
   "cell_type": "code",
   "execution_count": 33,
   "metadata": {},
   "outputs": [
    {
     "name": "stdout",
     "output_type": "stream",
     "text": [
      "User_Story_29: List all deceased individuals in a GEDCOM file\n"
     ]
    }
   ],
   "source": [
    "# Tests user stories that list out items\n",
    "test_list_deceased_individuals_success()\n",
    "#test_list_deceased_individuals_error()\n",
    "#test_list_living_married_individuals_success()\n",
    "#test_list_living_married_individuals_error()"
   ]
  },
  {
   "cell_type": "code",
   "execution_count": 34,
   "metadata": {},
   "outputs": [
    {
     "name": "stderr",
     "output_type": "stream",
     "text": [
      "test_legal_marriage (__main__.TestStringMethods) ... ok\n",
      "test_less_age_150 (__main__.TestStringMethods) ... ok\n",
      "test_not_legal_marriage (__main__.TestStringMethods) ... ok\n",
      "test_over_age_150 (__main__.TestStringMethods) ... ok\n",
      "\n",
      "----------------------------------------------------------------------\n",
      "Ran 4 tests in 0.003s\n",
      "\n",
      "OK\n"
     ]
    },
    {
     "data": {
      "text/plain": [
       "<unittest.runner.TextTestResult run=4 errors=0 failures=0>"
      ]
     },
     "execution_count": 34,
     "metadata": {},
     "output_type": "execute_result"
    }
   ],
   "source": [
    "import unittest\n",
    "\n",
    "class TestStringMethods(unittest.TestCase):\n",
    "\n",
    "    def test_not_legal_marriage(self):\n",
    "        self.assertTrue(test_not_legal_marriage())\n",
    "    def test_legal_marriage(self):\n",
    "        self.assertTrue(test_legal_marriage())\n",
    "    def test_over_age_150(self):\n",
    "        self.assertTrue(test_over_age_150())\n",
    "    def test_less_age_150(self):\n",
    "        self.assertTrue(test_less_age_150())\n",
    "    \n",
    "\n",
    "suite = unittest.TestLoader().loadTestsFromTestCase(TestStringMethods)\n",
    "unittest.TextTestRunner(verbosity=2).run(suite)"
   ]
  },
  {
   "cell_type": "code",
   "execution_count": null,
   "metadata": {},
   "outputs": [],
   "source": []
  }
 ],
 "metadata": {
  "kernelspec": {
   "display_name": "Python 3",
   "language": "python",
   "name": "python3"
  },
  "language_info": {
   "codemirror_mode": {
    "name": "ipython",
    "version": 3
   },
   "file_extension": ".py",
   "mimetype": "text/x-python",
   "name": "python",
   "nbconvert_exporter": "python",
   "pygments_lexer": "ipython3",
   "version": "3.7.3"
  }
 },
 "nbformat": 4,
 "nbformat_minor": 2
}
