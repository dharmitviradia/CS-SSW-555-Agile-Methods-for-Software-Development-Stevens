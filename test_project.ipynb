{
 "cells": [
  {
   "cell_type": "code",
   "execution_count": 18,
   "metadata": {},
   "outputs": [],
   "source": [
    "import pytest\n",
    "import unittest\n",
    "import project_gedcom as project"
   ]
  },
  {
   "cell_type": "code",
   "execution_count": 19,
   "metadata": {},
   "outputs": [],
   "source": [
    "def test_more_than_15_siblings():\n",
    "    family_dic = {'@F1@':{'CHIL':'@I24@','DIV':'NA','FAM':'@F1@','FAM_CHILD':['@I1@','@I10@','@I11@','@I12@','@I13@','@I14@','@I15@','@I16@','@I17@','@I18@','@I19@','@I20@','@I21@','@I22@','@I23@','@I24@','@I24@'],'HUSB':'@I2@','HUSB_NAME':'Chandler/Potter/','MARR':'1990-4-11','WIFE':'@I3@','WIFE_NAME':'Monica/Scott/','children_objects':[{'AGE':'25','ALIVE':True,'BIRT':'1994-10-27','DEAT':'NA','INDI':'@I1@','INDI_CHILD':['@F1@'],'NAME':'John/Pottere/','SEX':'M','SPOUSE':'NA'},{'AGE':'24','ALIVE':True,'BIRT':'1995-3-3','DEAT':'NA','INDI':'@I10@','INDI_CHILD':['@F1@'],'NAME':'Harry/Potter/','SEX':'M','SPOUSE':'NA'},{'AGE':'25','ALIVE':True,'BIRT':'1994-10-27','DEAT':'NA','INDI':'@I11@','INDI_CHILD':['@F1@'],'NAME':'John1/Potter/','SEX':'M','SPOUSE':'NA'},{'AGE':'25','ALIVE':True,'BIRT':'1994-10-27','DEAT':'NA','INDI':'@I12@','INDI_CHILD':['@F1@'],'NAME':'John1/Potter/','SEX':'M','SPOUSE':'NA'},{'AGE':'25','ALIVE':True,'BIRT':'1994-10-27','DEAT':'NA','INDI':'@I13@','INDI_CHILD':['@F1@'],'NAME':'John1/Potter/','SEX':'M','SPOUSE':'NA'},{'AGE':'25','ALIVE':True,'BIRT':'1994-10-27','DEAT':'NA','INDI':'@I14@','INDI_CHILD':['@F1@'],'NAME':'John1/Potter/','SEX':'M','SPOUSE':'NA'},{'AGE':'25','ALIVE':True,'BIRT':'1994-10-27','DEAT':'NA','INDI':'@I15@','INDI_CHILD':['@F1@'],'NAME':'John1/Potter/','SEX':'M','SPOUSE':'NA'},{'AGE':'25','ALIVE':True,'BIRT':'1994-10-27','DEAT':'NA','INDI':'@I16@','INDI_CHILD':['@F1@'],'NAME':'John1/Potter/','SEX':'M','SPOUSE':'NA'},{'AGE':'25','ALIVE':True,'BIRT':'1994-10-27','DEAT':'NA','INDI':'@I17@','INDI_CHILD':['@F1@'],'NAME':'John1/Potter/','SEX':'M','SPOUSE':'NA'},{'AGE':'25','ALIVE':True,'BIRT':'1994-10-27','DEAT':'NA','INDI':'@I18@','INDI_CHILD':['@F1@'],'NAME':'John1/Potter/','SEX':'M','SPOUSE':'NA'},{'AGE':'25','ALIVE':True,'BIRT':'1994-10-27','DEAT':'NA','INDI':'@I19@','INDI_CHILD':['@F1@'],'NAME':'John1/Potter/','SEX':'M','SPOUSE':'NA'},{'AGE':'25','ALIVE':True,'BIRT':'1994-10-27','DEAT':'NA','INDI':'@I20@','INDI_CHILD':['@F1@'],'NAME':'John1/Potter/','SEX':'M','SPOUSE':'NA'},{'AGE':'25','ALIVE':True,'BIRT':'1994-10-27','DEAT':'NA','INDI':'@I21@','INDI_CHILD':['@F1@'],'NAME':'John1/Potter/','SEX':'M','SPOUSE':'NA'},{'AGE':'25','ALIVE':True,'BIRT':'1994-10-27','DEAT':'NA','INDI':'@I22@','INDI_CHILD':['@F1@'],'NAME':'John1/Potter/','SEX':'M','SPOUSE':'NA'},{'AGE':'25','ALIVE':True,'BIRT':'1994-10-27','DEAT':'NA','INDI':'@I23@','INDI_CHILD':['@F1@'],'NAME':'John1/Potter/','SEX':'M','SPOUSE':'NA'},{'AGE':'25','ALIVE':True,'BIRT':'1994-10-27','DEAT':'NA','INDI':'@I24@','INDI_CHILD':['@F1@'],'NAME':'John1/Potter/','SEX':'M','SPOUSE':'NA'},{'AGE':'25','ALIVE':True,'BIRT':'1994-10-27','DEAT':'NA','INDI':'@I24@','INDI_CHILD':['@F1@'],'NAME':'John1/Potter/','SEX':'M','SPOUSE':'NA'}],'husband_object':{'AGE':'52','ALIVE':True,'BIRT':'1967-7-1','DEAT':'NA','INDI':'@I2@','INDI_CHILD':['@F2@'],'NAME':'Chandler/Potter/','SEX':'M','SPOUSE':['@F1@']},'wife_object':{'AGE':'51','ALIVE':True,'BIRT':'1968-6-15','DEAT':'NA','INDI':'@I3@','INDI_CHILD':['@F3@'],'NAME':'Monica/Scott/','SEX':'F','SPOUSE':['@F1@']}},'@F2@':{'CHIL':'@I2@','DIV':'NA','FAM':'@F2@','FAM_CHILD':['@I2@'],'HUSB':'@I4@','HUSB_NAME':'Ross/Potter/','MARR':'NA','WIFE':'@I5@','WIFE_NAME':'Rachel/Halpert/','children_objects':[{'AGE':'52','ALIVE':True,'BIRT':'1967-7-1','DEAT':'NA','INDI':'@I2@','INDI_CHILD':['@F2@'],'NAME':'Chandler/Potter/','SEX':'M','SPOUSE':['@F1@']}],'husband_object':{'AGE':'75','ALIVE':False,'BIRT':'1930-11-3','DEAT':'2005-11-16','INDI':'@I4@','INDI_CHILD':'NA','NAME':'Ross/Potter/','SEX':'M','SPOUSE':['@F2@']},'wife_object':{'AGE':'80','ALIVE':True,'BIRT':'1939-3-18','DEAT':'NA','INDI':'@I5@','INDI_CHILD':'NA','NAME':'Rachel/Halpert/','SEX':'F','SPOUSE':['@F2@']}},'@F3@':{'CHIL':'@I3@','DIV':'NA','FAM':'@F3@','FAM_CHILD':['@I3@'],'HUSB':'@I6@','HUSB_NAME':'Sid/Scott/','MARR':'1964-5-5','WIFE':'@I7@','WIFE_NAME':'Pam/Malone/','children_objects':[{'AGE':'51','ALIVE':True,'BIRT':'1968-6-15','DEAT':'NA','INDI':'@I3@','INDI_CHILD':['@F3@'],'NAME':'Monica/Scott/','SEX':'F','SPOUSE':['@F1@']}],'husband_object':{'AGE':'83','ALIVE':True,'BIRT':'1936-9-5','DEAT':'NA','INDI':'@I6@','INDI_CHILD':'NA','NAME':'Sid/Scott/','SEX':'M','SPOUSE':['@F3@']},'wife_object':{'AGE':'83','ALIVE':True,'BIRT':'1936-12-7','DEAT':'NA','INDI':'@I7@','INDI_CHILD':'NA','NAME':'Pam/Malone/','SEX':'F','SPOUSE':['@F3@','@F4@']}},'@F4@':{'CHIL':'@I9@','DIV':'1962-9-12','FAM':'@F4@','FAM_CHILD':['@I9@'],'HUSB':'@I8@','HUSB_NAME':'Roy/Shrute/','MARR':'1958-5-12','WIFE':'@I7@','WIFE_NAME':'Pam/Malone/','children_objects':[{'AGE':'59','ALIVE':True,'BIRT':'1960-4-4','DEAT':'NA','INDI':'@I9@','INDI_CHILD':['@F4@'],'NAME':'April/Dwyer/','SEX':'F','SPOUSE':'NA'}],'husband_object':{'AGE':'76','ALIVE':False,'BIRT':'1932-9-5','DEAT':'2008-6-5','INDI':'@I8@','INDI_CHILD':'NA','NAME':'Roy/Shrute/','SEX':'M','SPOUSE':['@F4@']},'wife_object':{'AGE':'83','ALIVE':True,'BIRT':'1936-12-7','DEAT':'NA','INDI':'@I7@','INDI_CHILD':'NA','NAME':'Pam/Malone/','SEX':'F','SPOUSE':['@F3@','@F4@']}}}\n",
    "    project.family_dic = family_dic\n",
    "    \n",
    "    result = project.check_sibling_count()\n",
    "    \n",
    "    assert result[0] == \"@F1@\""
   ]
  },
  {
   "cell_type": "code",
   "execution_count": 20,
   "metadata": {},
   "outputs": [],
   "source": [
    "test_more_than_15_siblings()"
   ]
  },
  {
   "cell_type": "code",
   "execution_count": null,
   "metadata": {},
   "outputs": [],
   "source": []
  }
 ],
 "metadata": {
  "kernelspec": {
   "display_name": "Python 2",
   "language": "python",
   "name": "python2"
  },
  "language_info": {
   "codemirror_mode": {
    "name": "ipython",
    "version": 2
   },
   "file_extension": ".py",
   "mimetype": "text/x-python",
   "name": "python",
   "nbconvert_exporter": "python",
   "pygments_lexer": "ipython2",
   "version": "2.7.15"
  }
 },
 "nbformat": 4,
 "nbformat_minor": 2
}
